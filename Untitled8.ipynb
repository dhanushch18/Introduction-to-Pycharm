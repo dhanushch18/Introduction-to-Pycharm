{
  "cells": [
    {
      "cell_type": "markdown",
      "metadata": {
        "id": "view-in-github",
        "colab_type": "text"
      },
      "source": [
        "<a href=\"https://colab.research.google.com/github/dhanushch18/Introduction-to-Pycharm/blob/main/Untitled8.ipynb\" target=\"_parent\"><img src=\"https://colab.research.google.com/assets/colab-badge.svg\" alt=\"Open In Colab\"/></a>"
      ]
    },
    {
      "cell_type": "code",
      "execution_count": null,
      "metadata": {
        "colab": {
          "base_uri": "https://localhost:8080/"
        },
        "id": "MSxQzZhQQbK2",
        "outputId": "c68e3261-4e82-4984-e3da-8736cd8f2a7d"
      },
      "outputs": [
        {
          "name": "stdout",
          "output_type": "stream",
          "text": [
            "Enter a num :6\n",
            "Enter a num :8\n",
            "The sum is :  14\n"
          ]
        }
      ],
      "source": [
        "#sum of 2 num\n",
        "x=int(input(\"Enter a num :\"))\n",
        "y=int(input(\"Enter a num :\"))\n",
        "c=x+y\n",
        "print(\"The sum is : \",c)"
      ]
    },
    {
      "cell_type": "code",
      "execution_count": null,
      "metadata": {
        "colab": {
          "base_uri": "https://localhost:8080/"
        },
        "id": "BXst1hOOVcl3",
        "outputId": "83a637e8-a698-4db5-ed22-140a360218d9"
      },
      "outputs": [
        {
          "name": "stdout",
          "output_type": "stream",
          "text": [
            "Enter a num:16\n",
            "square root of the num :  4.0\n"
          ]
        }
      ],
      "source": [
        "#square root of num\n",
        "\n",
        "import math\n",
        "x=int(input(\"Enter a num:\"))\n",
        "s=math.sqrt(x)\n",
        "print(\"square root of the num : \",s)"
      ]
    },
    {
      "cell_type": "code",
      "execution_count": 2,
      "metadata": {
        "colab": {
          "base_uri": "https://localhost:8080/"
        },
        "id": "Jf9dP0WwV0x2",
        "outputId": "d37f0bf2-4637-4209-c0ea-12e66a7d6376"
      },
      "outputs": [
        {
          "output_type": "stream",
          "name": "stdout",
          "text": [
            "Enter a num :-3\n",
            "Negative\n"
          ]
        }
      ],
      "source": [
        "x=int(input(\"Enter a num :\"))\n",
        "if(x>0):\n",
        "    print(\"Num is positive \",x)\n",
        "else:\n",
        "    print(\"Negative\")\n"
      ]
    },
    {
      "cell_type": "code",
      "source": [
        "#prime num\n",
        "x=int(input(\"Enter a num :\"))\n",
        "if (x==1):\n",
        "    print(\"Not a prime num \",x)\n",
        "if (x>1):\n",
        "    for i in range (2,x):\n",
        "      if (x%i==0 ):\n",
        "        print(\"Not a prime num \")\n",
        "      else:\n",
        "        print(\"Prime num\")"
      ],
      "metadata": {
        "colab": {
          "base_uri": "https://localhost:8080/"
        },
        "id": "GiGyM4ppeMty",
        "outputId": "51dceea7-79c1-450c-864d-6c9838c8a81d"
      },
      "execution_count": 8,
      "outputs": [
        {
          "output_type": "stream",
          "name": "stdout",
          "text": [
            "Enter a num :7\n",
            "Prime num\n",
            "Prime num\n",
            "Prime num\n",
            "Prime num\n",
            "Prime num\n"
          ]
        }
      ]
    },
    {
      "cell_type": "code",
      "source": [
        "\n"
      ],
      "metadata": {
        "colab": {
          "base_uri": "https://localhost:8080/",
          "height": 143
        },
        "id": "RPBkrwBNgFyD",
        "outputId": "0a31827d-eb1e-4508-8e9a-0905f338cc1f"
      },
      "execution_count": 9,
      "outputs": [
        {
          "output_type": "error",
          "ename": "SyntaxError",
          "evalue": "ignored",
          "traceback": [
            "\u001b[0;36m  File \u001b[0;32m\"<ipython-input-9-ca8e8340a3c4>\"\u001b[0;36m, line \u001b[0;32m1\u001b[0m\n\u001b[0;31m    public class Main {\u001b[0m\n\u001b[0m           ^\u001b[0m\n\u001b[0;31mSyntaxError\u001b[0m\u001b[0;31m:\u001b[0m invalid syntax\n"
          ]
        }
      ]
    }
  ],
  "metadata": {
    "colab": {
      "provenance": [],
      "authorship_tag": "ABX9TyNq3r0t2kM5ol4wuVd1G4oZ",
      "include_colab_link": true
    },
    "kernelspec": {
      "display_name": "Python 3",
      "name": "python3"
    },
    "language_info": {
      "name": "python"
    }
  },
  "nbformat": 4,
  "nbformat_minor": 0
}